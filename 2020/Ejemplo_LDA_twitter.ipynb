{
  "nbformat": 4,
  "nbformat_minor": 0,
  "metadata": {
    "colab": {
      "name": "Ejemplo LDA twitter.ipynb",
      "provenance": []
    },
    "kernelspec": {
      "name": "python3",
      "display_name": "Python 3"
    }
  },
  "cells": [
    {
      "cell_type": "code",
      "metadata": {
        "id": "pXQRiPWAEifM",
        "colab_type": "code",
        "colab": {
          "base_uri": "https://localhost:8080/",
          "height": 591
        },
        "outputId": "af42a2ea-d597-44ce-a0ae-0cf34771b50b"
      },
      "source": [
        "!pip install pyLDAvis\n",
        "import gensim\n",
        "import pyLDAvis\n",
        "from pyLDAvis import gensim as gensimvis\n",
        "from pyLDAvis import sklearn\n",
        "import spacy\n",
        "\n",
        "from sklearn.decomposition import TruncatedSVD\n",
        "from sklearn.decomposition import LatentDirichletAllocation\n",
        "from sklearn.feature_extraction.text import CountVectorizer\n",
        "from sklearn.feature_extraction.text import TfidfVectorizer \n",
        "from sklearn.preprocessing import Normalizer\n",
        "import pandas as pd\n",
        "import numpy as np\n",
        "import pprint as pp"
      ],
      "execution_count": null,
      "outputs": [
        {
          "output_type": "stream",
          "text": [
            "Collecting pyLDAvis\n",
            "\u001b[?25l  Downloading https://files.pythonhosted.org/packages/a5/3a/af82e070a8a96e13217c8f362f9a73e82d61ac8fff3a2561946a97f96266/pyLDAvis-2.1.2.tar.gz (1.6MB)\n",
            "\r\u001b[K     |▏                               | 10kB 27.6MB/s eta 0:00:01\r\u001b[K     |▍                               | 20kB 6.0MB/s eta 0:00:01\r\u001b[K     |▋                               | 30kB 8.4MB/s eta 0:00:01\r\u001b[K     |▉                               | 40kB 10.8MB/s eta 0:00:01\r\u001b[K     |█                               | 51kB 7.0MB/s eta 0:00:01\r\u001b[K     |█▏                              | 61kB 8.2MB/s eta 0:00:01\r\u001b[K     |█▍                              | 71kB 9.3MB/s eta 0:00:01\r\u001b[K     |█▋                              | 81kB 10.4MB/s eta 0:00:01\r\u001b[K     |█▉                              | 92kB 11.4MB/s eta 0:00:01\r\u001b[K     |██                              | 102kB 9.0MB/s eta 0:00:01\r\u001b[K     |██▎                             | 112kB 9.0MB/s eta 0:00:01\r\u001b[K     |██▍                             | 122kB 9.0MB/s eta 0:00:01\r\u001b[K     |██▋                             | 133kB 9.0MB/s eta 0:00:01\r\u001b[K     |██▉                             | 143kB 9.0MB/s eta 0:00:01\r\u001b[K     |███                             | 153kB 9.0MB/s eta 0:00:01\r\u001b[K     |███▎                            | 163kB 9.0MB/s eta 0:00:01\r\u001b[K     |███▌                            | 174kB 9.0MB/s eta 0:00:01\r\u001b[K     |███▋                            | 184kB 9.0MB/s eta 0:00:01\r\u001b[K     |███▉                            | 194kB 9.0MB/s eta 0:00:01\r\u001b[K     |████                            | 204kB 9.0MB/s eta 0:00:01\r\u001b[K     |████▎                           | 215kB 9.0MB/s eta 0:00:01\r\u001b[K     |████▌                           | 225kB 9.0MB/s eta 0:00:01\r\u001b[K     |████▊                           | 235kB 9.0MB/s eta 0:00:01\r\u001b[K     |████▉                           | 245kB 9.0MB/s eta 0:00:01\r\u001b[K     |█████                           | 256kB 9.0MB/s eta 0:00:01\r\u001b[K     |█████▎                          | 266kB 9.0MB/s eta 0:00:01\r\u001b[K     |█████▌                          | 276kB 9.0MB/s eta 0:00:01\r\u001b[K     |█████▊                          | 286kB 9.0MB/s eta 0:00:01\r\u001b[K     |█████▉                          | 296kB 9.0MB/s eta 0:00:01\r\u001b[K     |██████                          | 307kB 9.0MB/s eta 0:00:01\r\u001b[K     |██████▎                         | 317kB 9.0MB/s eta 0:00:01\r\u001b[K     |██████▌                         | 327kB 9.0MB/s eta 0:00:01\r\u001b[K     |██████▊                         | 337kB 9.0MB/s eta 0:00:01\r\u001b[K     |███████                         | 348kB 9.0MB/s eta 0:00:01\r\u001b[K     |███████                         | 358kB 9.0MB/s eta 0:00:01\r\u001b[K     |███████▎                        | 368kB 9.0MB/s eta 0:00:01\r\u001b[K     |███████▌                        | 378kB 9.0MB/s eta 0:00:01\r\u001b[K     |███████▊                        | 389kB 9.0MB/s eta 0:00:01\r\u001b[K     |████████                        | 399kB 9.0MB/s eta 0:00:01\r\u001b[K     |████████▏                       | 409kB 9.0MB/s eta 0:00:01\r\u001b[K     |████████▎                       | 419kB 9.0MB/s eta 0:00:01\r\u001b[K     |████████▌                       | 430kB 9.0MB/s eta 0:00:01\r\u001b[K     |████████▊                       | 440kB 9.0MB/s eta 0:00:01\r\u001b[K     |█████████                       | 450kB 9.0MB/s eta 0:00:01\r\u001b[K     |█████████▏                      | 460kB 9.0MB/s eta 0:00:01\r\u001b[K     |█████████▍                      | 471kB 9.0MB/s eta 0:00:01\r\u001b[K     |█████████▌                      | 481kB 9.0MB/s eta 0:00:01\r\u001b[K     |█████████▊                      | 491kB 9.0MB/s eta 0:00:01\r\u001b[K     |██████████                      | 501kB 9.0MB/s eta 0:00:01\r\u001b[K     |██████████▏                     | 512kB 9.0MB/s eta 0:00:01\r\u001b[K     |██████████▍                     | 522kB 9.0MB/s eta 0:00:01\r\u001b[K     |██████████▋                     | 532kB 9.0MB/s eta 0:00:01\r\u001b[K     |██████████▊                     | 542kB 9.0MB/s eta 0:00:01\r\u001b[K     |███████████                     | 552kB 9.0MB/s eta 0:00:01\r\u001b[K     |███████████▏                    | 563kB 9.0MB/s eta 0:00:01\r\u001b[K     |███████████▍                    | 573kB 9.0MB/s eta 0:00:01\r\u001b[K     |███████████▋                    | 583kB 9.0MB/s eta 0:00:01\r\u001b[K     |███████████▊                    | 593kB 9.0MB/s eta 0:00:01\r\u001b[K     |████████████                    | 604kB 9.0MB/s eta 0:00:01\r\u001b[K     |████████████▏                   | 614kB 9.0MB/s eta 0:00:01\r\u001b[K     |████████████▍                   | 624kB 9.0MB/s eta 0:00:01\r\u001b[K     |████████████▋                   | 634kB 9.0MB/s eta 0:00:01\r\u001b[K     |████████████▉                   | 645kB 9.0MB/s eta 0:00:01\r\u001b[K     |█████████████                   | 655kB 9.0MB/s eta 0:00:01\r\u001b[K     |█████████████▏                  | 665kB 9.0MB/s eta 0:00:01\r\u001b[K     |█████████████▍                  | 675kB 9.0MB/s eta 0:00:01\r\u001b[K     |█████████████▋                  | 686kB 9.0MB/s eta 0:00:01\r\u001b[K     |█████████████▉                  | 696kB 9.0MB/s eta 0:00:01\r\u001b[K     |██████████████                  | 706kB 9.0MB/s eta 0:00:01\r\u001b[K     |██████████████▏                 | 716kB 9.0MB/s eta 0:00:01\r\u001b[K     |██████████████▍                 | 727kB 9.0MB/s eta 0:00:01\r\u001b[K     |██████████████▋                 | 737kB 9.0MB/s eta 0:00:01\r\u001b[K     |██████████████▉                 | 747kB 9.0MB/s eta 0:00:01\r\u001b[K     |███████████████                 | 757kB 9.0MB/s eta 0:00:01\r\u001b[K     |███████████████▎                | 768kB 9.0MB/s eta 0:00:01\r\u001b[K     |███████████████▍                | 778kB 9.0MB/s eta 0:00:01\r\u001b[K     |███████████████▋                | 788kB 9.0MB/s eta 0:00:01\r\u001b[K     |███████████████▉                | 798kB 9.0MB/s eta 0:00:01\r\u001b[K     |████████████████                | 808kB 9.0MB/s eta 0:00:01\r\u001b[K     |████████████████▎               | 819kB 9.0MB/s eta 0:00:01\r\u001b[K     |████████████████▌               | 829kB 9.0MB/s eta 0:00:01\r\u001b[K     |████████████████▋               | 839kB 9.0MB/s eta 0:00:01\r\u001b[K     |████████████████▉               | 849kB 9.0MB/s eta 0:00:01\r\u001b[K     |█████████████████               | 860kB 9.0MB/s eta 0:00:01\r\u001b[K     |█████████████████▎              | 870kB 9.0MB/s eta 0:00:01\r\u001b[K     |█████████████████▌              | 880kB 9.0MB/s eta 0:00:01\r\u001b[K     |█████████████████▋              | 890kB 9.0MB/s eta 0:00:01\r\u001b[K     |█████████████████▉              | 901kB 9.0MB/s eta 0:00:01\r\u001b[K     |██████████████████              | 911kB 9.0MB/s eta 0:00:01\r\u001b[K     |██████████████████▎             | 921kB 9.0MB/s eta 0:00:01\r\u001b[K     |██████████████████▌             | 931kB 9.0MB/s eta 0:00:01\r\u001b[K     |██████████████████▊             | 942kB 9.0MB/s eta 0:00:01\r\u001b[K     |██████████████████▉             | 952kB 9.0MB/s eta 0:00:01\r\u001b[K     |███████████████████             | 962kB 9.0MB/s eta 0:00:01\r\u001b[K     |███████████████████▎            | 972kB 9.0MB/s eta 0:00:01\r\u001b[K     |███████████████████▌            | 983kB 9.0MB/s eta 0:00:01\r\u001b[K     |███████████████████▊            | 993kB 9.0MB/s eta 0:00:01\r\u001b[K     |████████████████████            | 1.0MB 9.0MB/s eta 0:00:01\r\u001b[K     |████████████████████            | 1.0MB 9.0MB/s eta 0:00:01\r\u001b[K     |████████████████████▎           | 1.0MB 9.0MB/s eta 0:00:01\r\u001b[K     |████████████████████▌           | 1.0MB 9.0MB/s eta 0:00:01\r\u001b[K     |████████████████████▊           | 1.0MB 9.0MB/s eta 0:00:01\r\u001b[K     |█████████████████████           | 1.1MB 9.0MB/s eta 0:00:01\r\u001b[K     |█████████████████████▏          | 1.1MB 9.0MB/s eta 0:00:01\r\u001b[K     |█████████████████████▎          | 1.1MB 9.0MB/s eta 0:00:01\r\u001b[K     |█████████████████████▌          | 1.1MB 9.0MB/s eta 0:00:01\r\u001b[K     |█████████████████████▊          | 1.1MB 9.0MB/s eta 0:00:01\r\u001b[K     |██████████████████████          | 1.1MB 9.0MB/s eta 0:00:01\r\u001b[K     |██████████████████████▏         | 1.1MB 9.0MB/s eta 0:00:01\r\u001b[K     |██████████████████████▍         | 1.1MB 9.0MB/s eta 0:00:01\r\u001b[K     |██████████████████████▌         | 1.1MB 9.0MB/s eta 0:00:01\r\u001b[K     |██████████████████████▊         | 1.1MB 9.0MB/s eta 0:00:01\r\u001b[K     |███████████████████████         | 1.2MB 9.0MB/s eta 0:00:01\r\u001b[K     |███████████████████████▏        | 1.2MB 9.0MB/s eta 0:00:01\r\u001b[K     |███████████████████████▍        | 1.2MB 9.0MB/s eta 0:00:01\r\u001b[K     |███████████████████████▌        | 1.2MB 9.0MB/s eta 0:00:01\r\u001b[K     |███████████████████████▊        | 1.2MB 9.0MB/s eta 0:00:01\r\u001b[K     |████████████████████████        | 1.2MB 9.0MB/s eta 0:00:01\r\u001b[K     |████████████████████████▏       | 1.2MB 9.0MB/s eta 0:00:01\r\u001b[K     |████████████████████████▍       | 1.2MB 9.0MB/s eta 0:00:01\r\u001b[K     |████████████████████████▋       | 1.2MB 9.0MB/s eta 0:00:01\r\u001b[K     |████████████████████████▊       | 1.2MB 9.0MB/s eta 0:00:01\r\u001b[K     |█████████████████████████       | 1.3MB 9.0MB/s eta 0:00:01\r\u001b[K     |█████████████████████████▏      | 1.3MB 9.0MB/s eta 0:00:01\r\u001b[K     |█████████████████████████▍      | 1.3MB 9.0MB/s eta 0:00:01\r\u001b[K     |█████████████████████████▋      | 1.3MB 9.0MB/s eta 0:00:01\r\u001b[K     |█████████████████████████▉      | 1.3MB 9.0MB/s eta 0:00:01\r\u001b[K     |██████████████████████████      | 1.3MB 9.0MB/s eta 0:00:01\r\u001b[K     |██████████████████████████▏     | 1.3MB 9.0MB/s eta 0:00:01\r\u001b[K     |██████████████████████████▍     | 1.3MB 9.0MB/s eta 0:00:01\r\u001b[K     |██████████████████████████▋     | 1.3MB 9.0MB/s eta 0:00:01\r\u001b[K     |██████████████████████████▉     | 1.4MB 9.0MB/s eta 0:00:01\r\u001b[K     |███████████████████████████     | 1.4MB 9.0MB/s eta 0:00:01\r\u001b[K     |███████████████████████████▏    | 1.4MB 9.0MB/s eta 0:00:01\r\u001b[K     |███████████████████████████▍    | 1.4MB 9.0MB/s eta 0:00:01\r\u001b[K     |███████████████████████████▋    | 1.4MB 9.0MB/s eta 0:00:01\r\u001b[K     |███████████████████████████▉    | 1.4MB 9.0MB/s eta 0:00:01\r\u001b[K     |████████████████████████████    | 1.4MB 9.0MB/s eta 0:00:01\r\u001b[K     |████████████████████████████▏   | 1.4MB 9.0MB/s eta 0:00:01\r\u001b[K     |████████████████████████████▍   | 1.4MB 9.0MB/s eta 0:00:01\r\u001b[K     |████████████████████████████▋   | 1.4MB 9.0MB/s eta 0:00:01\r\u001b[K     |████████████████████████████▉   | 1.5MB 9.0MB/s eta 0:00:01\r\u001b[K     |█████████████████████████████   | 1.5MB 9.0MB/s eta 0:00:01\r\u001b[K     |█████████████████████████████▎  | 1.5MB 9.0MB/s eta 0:00:01\r\u001b[K     |█████████████████████████████▍  | 1.5MB 9.0MB/s eta 0:00:01\r\u001b[K     |█████████████████████████████▋  | 1.5MB 9.0MB/s eta 0:00:01\r\u001b[K     |█████████████████████████████▉  | 1.5MB 9.0MB/s eta 0:00:01\r\u001b[K     |██████████████████████████████  | 1.5MB 9.0MB/s eta 0:00:01\r\u001b[K     |██████████████████████████████▎ | 1.5MB 9.0MB/s eta 0:00:01\r\u001b[K     |██████████████████████████████▌ | 1.5MB 9.0MB/s eta 0:00:01\r\u001b[K     |██████████████████████████████▋ | 1.5MB 9.0MB/s eta 0:00:01\r\u001b[K     |██████████████████████████████▉ | 1.6MB 9.0MB/s eta 0:00:01\r\u001b[K     |███████████████████████████████ | 1.6MB 9.0MB/s eta 0:00:01\r\u001b[K     |███████████████████████████████▎| 1.6MB 9.0MB/s eta 0:00:01\r\u001b[K     |███████████████████████████████▌| 1.6MB 9.0MB/s eta 0:00:01\r\u001b[K     |███████████████████████████████▊| 1.6MB 9.0MB/s eta 0:00:01\r\u001b[K     |███████████████████████████████▉| 1.6MB 9.0MB/s eta 0:00:01\r\u001b[K     |████████████████████████████████| 1.6MB 9.0MB/s \n",
            "\u001b[?25hRequirement already satisfied: wheel>=0.23.0 in /usr/local/lib/python3.6/dist-packages (from pyLDAvis) (0.33.6)\n",
            "Requirement already satisfied: numpy>=1.9.2 in /usr/local/lib/python3.6/dist-packages (from pyLDAvis) (1.17.4)\n",
            "Requirement already satisfied: scipy>=0.18.0 in /usr/local/lib/python3.6/dist-packages (from pyLDAvis) (1.3.2)\n",
            "Requirement already satisfied: pandas>=0.17.0 in /usr/local/lib/python3.6/dist-packages (from pyLDAvis) (0.25.3)\n",
            "Requirement already satisfied: joblib>=0.8.4 in /usr/local/lib/python3.6/dist-packages (from pyLDAvis) (0.14.0)\n",
            "Requirement already satisfied: jinja2>=2.7.2 in /usr/local/lib/python3.6/dist-packages (from pyLDAvis) (2.10.3)\n",
            "Requirement already satisfied: numexpr in /usr/local/lib/python3.6/dist-packages (from pyLDAvis) (2.7.0)\n",
            "Requirement already satisfied: pytest in /usr/local/lib/python3.6/dist-packages (from pyLDAvis) (3.6.4)\n",
            "Requirement already satisfied: future in /usr/local/lib/python3.6/dist-packages (from pyLDAvis) (0.16.0)\n",
            "Collecting funcy\n",
            "  Downloading https://files.pythonhosted.org/packages/eb/3a/fc8323f913e8a9c6f33f7203547f8a2171223da5ed965f2541dafb10aa09/funcy-1.13-py2.py3-none-any.whl\n",
            "Requirement already satisfied: pytz>=2017.2 in /usr/local/lib/python3.6/dist-packages (from pandas>=0.17.0->pyLDAvis) (2018.9)\n",
            "Requirement already satisfied: python-dateutil>=2.6.1 in /usr/local/lib/python3.6/dist-packages (from pandas>=0.17.0->pyLDAvis) (2.6.1)\n",
            "Requirement already satisfied: MarkupSafe>=0.23 in /usr/local/lib/python3.6/dist-packages (from jinja2>=2.7.2->pyLDAvis) (1.1.1)\n",
            "Requirement already satisfied: more-itertools>=4.0.0 in /usr/local/lib/python3.6/dist-packages (from pytest->pyLDAvis) (7.2.0)\n",
            "Requirement already satisfied: six>=1.10.0 in /usr/local/lib/python3.6/dist-packages (from pytest->pyLDAvis) (1.12.0)\n",
            "Requirement already satisfied: atomicwrites>=1.0 in /usr/local/lib/python3.6/dist-packages (from pytest->pyLDAvis) (1.3.0)\n",
            "Requirement already satisfied: py>=1.5.0 in /usr/local/lib/python3.6/dist-packages (from pytest->pyLDAvis) (1.8.0)\n",
            "Requirement already satisfied: pluggy<0.8,>=0.5 in /usr/local/lib/python3.6/dist-packages (from pytest->pyLDAvis) (0.7.1)\n",
            "Requirement already satisfied: setuptools in /usr/local/lib/python3.6/dist-packages (from pytest->pyLDAvis) (41.6.0)\n",
            "Requirement already satisfied: attrs>=17.4.0 in /usr/local/lib/python3.6/dist-packages (from pytest->pyLDAvis) (19.3.0)\n",
            "Building wheels for collected packages: pyLDAvis\n",
            "  Building wheel for pyLDAvis (setup.py) ... \u001b[?25l\u001b[?25hdone\n",
            "  Created wheel for pyLDAvis: filename=pyLDAvis-2.1.2-py2.py3-none-any.whl size=97711 sha256=790137361c3d151b1eae7120062f9b10c71f4aeaad96b7abfa2f01743b8efec0\n",
            "  Stored in directory: /root/.cache/pip/wheels/98/71/24/513a99e58bb6b8465bae4d2d5e9dba8f0bef8179e3051ac414\n",
            "Successfully built pyLDAvis\n",
            "Installing collected packages: funcy, pyLDAvis\n",
            "Successfully installed funcy-1.13 pyLDAvis-2.1.2\n"
          ],
          "name": "stdout"
        },
        {
          "output_type": "stream",
          "text": [
            "/usr/local/lib/python3.6/dist-packages/_pytest/mark/structures.py:426: DeprecationWarning: The usage of `cmp` is deprecated and will be removed on or after 2021-06-01.  Please use `eq` and `order` instead.\n",
            "  @attr.s(cmp=False, hash=False)\n"
          ],
          "name": "stderr"
        }
      ]
    },
    {
      "cell_type": "code",
      "metadata": {
        "id": "BzONmkxME8CA",
        "colab_type": "code",
        "colab": {
          "base_uri": "https://localhost:8080/",
          "height": 54
        },
        "outputId": "07f790eb-58f0-4cd0-c809-cd947919ed2b"
      },
      "source": [
        "from google.colab import drive\n",
        "drive.mount('/content/drive')"
      ],
      "execution_count": null,
      "outputs": [
        {
          "output_type": "stream",
          "text": [
            "Drive already mounted at /content/drive; to attempt to forcibly remount, call drive.mount(\"/content/drive\", force_remount=True).\n"
          ],
          "name": "stdout"
        }
      ]
    },
    {
      "cell_type": "code",
      "metadata": {
        "id": "kbTl1ZbLFSn5",
        "colab_type": "code",
        "colab": {}
      },
      "source": [
        "data = pd.read_csv('tweets.csv')"
      ],
      "execution_count": null,
      "outputs": []
    },
    {
      "cell_type": "code",
      "metadata": {
        "id": "iXYo-ZxxFm-r",
        "colab_type": "code",
        "colab": {
          "base_uri": "https://localhost:8080/",
          "height": 400
        },
        "outputId": "89580ceb-92ac-4210-c4e5-2c09c48e5210"
      },
      "source": [
        "data.head()"
      ],
      "execution_count": null,
      "outputs": [
        {
          "output_type": "execute_result",
          "data": {
            "text/html": [
              "<div>\n",
              "<style scoped>\n",
              "    .dataframe tbody tr th:only-of-type {\n",
              "        vertical-align: middle;\n",
              "    }\n",
              "\n",
              "    .dataframe tbody tr th {\n",
              "        vertical-align: top;\n",
              "    }\n",
              "\n",
              "    .dataframe thead th {\n",
              "        text-align: right;\n",
              "    }\n",
              "</style>\n",
              "<table border=\"1\" class=\"dataframe\">\n",
              "  <thead>\n",
              "    <tr style=\"text-align: right;\">\n",
              "      <th></th>\n",
              "      <th>screen_name</th>\n",
              "      <th>documents</th>\n",
              "      <th>textblob_polarity</th>\n",
              "      <th>textblob_subjectivity</th>\n",
              "      <th>vader_polarity</th>\n",
              "      <th>grouped_sentiment</th>\n",
              "      <th>grouped_sentiment.1</th>\n",
              "    </tr>\n",
              "  </thead>\n",
              "  <tbody>\n",
              "    <tr>\n",
              "      <th>0</th>\n",
              "      <td>Revista Digital</td>\n",
              "      <td>0x1F539 5 Mitos sobre el aborto que todos debe...</td>\n",
              "      <td>0</td>\n",
              "      <td>0</td>\n",
              "      <td>0</td>\n",
              "      <td>0</td>\n",
              "      <td>NaN</td>\n",
              "    </tr>\n",
              "    <tr>\n",
              "      <th>1</th>\n",
              "      <td>Mimi</td>\n",
              "      <td>RT @antotripelli: Mi mam0x00E1 hablando con un...</td>\n",
              "      <td>0</td>\n",
              "      <td>0</td>\n",
              "      <td>0</td>\n",
              "      <td>0</td>\n",
              "      <td>NaN</td>\n",
              "    </tr>\n",
              "    <tr>\n",
              "      <th>2</th>\n",
              "      <td>Delfina0x1F49A</td>\n",
              "      <td>El aborto que se perdi0x00F3 tu vieja jajajaja...</td>\n",
              "      <td>0</td>\n",
              "      <td>0</td>\n",
              "      <td>0</td>\n",
              "      <td>0</td>\n",
              "      <td>NaN</td>\n",
              "    </tr>\n",
              "    <tr>\n",
              "      <th>3</th>\n",
              "      <td>Mr. Drama0x1F451</td>\n",
              "      <td>RT @cortalabochx: Si se legaliza el aborto los...</td>\n",
              "      <td>0</td>\n",
              "      <td>0</td>\n",
              "      <td>0</td>\n",
              "      <td>0</td>\n",
              "      <td>NaN</td>\n",
              "    </tr>\n",
              "    <tr>\n",
              "      <th>4</th>\n",
              "      <td>Luigi Venegas</td>\n",
              "      <td>RT @AgustinLajeQuot: Ya saben que responder cu...</td>\n",
              "      <td>0</td>\n",
              "      <td>0</td>\n",
              "      <td>0</td>\n",
              "      <td>0</td>\n",
              "      <td>NaN</td>\n",
              "    </tr>\n",
              "  </tbody>\n",
              "</table>\n",
              "</div>"
            ],
            "text/plain": [
              "        screen_name  ... grouped_sentiment.1\n",
              "0   Revista Digital  ...                 NaN\n",
              "1              Mimi  ...                 NaN\n",
              "2    Delfina0x1F49A  ...                 NaN\n",
              "3  Mr. Drama0x1F451  ...                 NaN\n",
              "4     Luigi Venegas  ...                 NaN\n",
              "\n",
              "[5 rows x 7 columns]"
            ]
          },
          "metadata": {
            "tags": []
          },
          "execution_count": 9
        }
      ]
    },
    {
      "cell_type": "code",
      "metadata": {
        "id": "qOZXACE6Frjd",
        "colab_type": "code",
        "colab": {}
      },
      "source": [
        "corpus_vectorizado = CountVectorizer( max_features = 40000, ngram_range=(1,3), min_df=3, max_df=0.4)"
      ],
      "execution_count": null,
      "outputs": []
    },
    {
      "cell_type": "code",
      "metadata": {
        "id": "vt3HSEcRFvQ8",
        "colab_type": "code",
        "colab": {}
      },
      "source": [
        "lda = LatentDirichletAllocation(n_components = 10,learning_method='batch',max_iter=100)"
      ],
      "execution_count": null,
      "outputs": []
    },
    {
      "cell_type": "code",
      "metadata": {
        "id": "4MgSV9TWHFrw",
        "colab_type": "code",
        "colab": {}
      },
      "source": [
        "corpus_para_lda = corpus_vectorizado.fit_transform(data.documents)"
      ],
      "execution_count": null,
      "outputs": []
    },
    {
      "cell_type": "code",
      "metadata": {
        "id": "Qk2SAKeOMIIR",
        "colab_type": "code",
        "colab": {}
      },
      "source": [
        "def imprimir_palabras_mas_relevantes(model, feature_names, n_top_words):\n",
        "    for topic_idx, topic in enumerate(model.components_):\n",
        "        message = \"Topic #%d: \" % topic_idx\n",
        "        message += \" \".join([feature_names[i]\n",
        "                             for i in topic.argsort()[:-n_top_words - 1:-1]])\n",
        "        print(message)\n",
        "    print()"
      ],
      "execution_count": null,
      "outputs": []
    },
    {
      "cell_type": "code",
      "metadata": {
        "id": "FcJ0qhfrUm_P",
        "colab_type": "code",
        "colab": {
          "base_uri": "https://localhost:8080/",
          "height": 151
        },
        "outputId": "8e84c40b-41e9-4337-9184-54851e14eaa1"
      },
      "source": [
        "lda.fit(corpus_para_lda)"
      ],
      "execution_count": null,
      "outputs": [
        {
          "output_type": "execute_result",
          "data": {
            "text/plain": [
              "LatentDirichletAllocation(batch_size=128, doc_topic_prior=None,\n",
              "                          evaluate_every=-1, learning_decay=0.7,\n",
              "                          learning_method='batch', learning_offset=10.0,\n",
              "                          max_doc_update_iter=100, max_iter=100,\n",
              "                          mean_change_tol=0.001, n_components=10, n_jobs=None,\n",
              "                          perp_tol=0.1, random_state=None,\n",
              "                          topic_word_prior=None, total_samples=1000000.0,\n",
              "                          verbose=0)"
            ]
          },
          "metadata": {
            "tags": []
          },
          "execution_count": 14
        }
      ]
    },
    {
      "cell_type": "code",
      "metadata": {
        "id": "zj10HVG3U8nZ",
        "colab_type": "code",
        "colab": {
          "base_uri": "https://localhost:8080/",
          "height": 255
        },
        "outputId": "b332a51a-7624-4fdc-a886-3c3ad84ffc22"
      },
      "source": [
        "print(\"\\nTopics in LDA model:\")\n",
        "tf_feature_names = corpus_vectorizado.get_feature_names()\n",
        "n_top_words = 10\n",
        "imprimir_palabras_mas_relevantes(lda, tf_feature_names, n_top_words)"
      ],
      "execution_count": null,
      "outputs": [
        {
          "output_type": "stream",
          "text": [
            "\n",
            "Topics in LDA model:\n",
            "Topic #0: no las se que es co https co https me votar\n",
            "Topic #1: pro no los que en de la por son mi amiga\n",
            "Topic #2: se que en https co co https es los su los provida\n",
            "Topic #3: co https co https verde legal aborto legal al al aborto quiere senadora\n",
            "Topic #4: las me los no vidas las dos dos dos vidas las dos vidas porque\n",
            "Topic #5: los ni0x00d1os los ni0x00d1os gente la gente para la gente aaaaaaah para la para la gente trans\n",
            "Topic #6: que como es se mi para por lo no las\n",
            "Topic #7: los que de los tenemos para del legalizaci0x00f3n del legalizaci0x00f3n la legalizaci0x00f3n del legalizaci0x00f3n del aborto\n",
            "Topic #8: del no si dicen e0x2026 por ser entonces unos hasta\n",
            "Topic #9: que https https co co en no se del es un\n",
            "\n"
          ],
          "name": "stdout"
        }
      ]
    }
  ]
}