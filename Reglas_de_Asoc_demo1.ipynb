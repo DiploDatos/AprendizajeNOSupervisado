{
 "cells": [
  {
   "cell_type": "markdown",
   "metadata": {},
   "source": [
    "## Aprendizaje de reglas de asociación"
   ]
  },
  {
   "cell_type": "markdown",
   "metadata": {},
   "source": [
    "Objetivo:\n",
    "    \n",
    "    derivar reglas de la forma {A} -> {B}\n",
    "    "
   ]
  },
  {
   "cell_type": "code",
   "execution_count": 1,
   "metadata": {},
   "outputs": [],
   "source": [
    "import numpy as np\n",
    "from itertools import combinations, groupby\n",
    "from collections import Counter"
   ]
  },
  {
   "cell_type": "code",
   "execution_count": 12,
   "metadata": {},
   "outputs": [
    {
     "data": {
      "text/plain": [
       "array([[1, 'manzanas'],\n",
       "       [1, 'mandarinas'],\n",
       "       [1, 'huevos'],\n",
       "       [1, 'leche'],\n",
       "       [2, 'leche'],\n",
       "       [2, 'huevos']], dtype=object)"
      ]
     },
     "execution_count": 12,
     "metadata": {},
     "output_type": "execute_result"
    }
   ],
   "source": [
    "# Sample data\n",
    "compras = np.array([[1,'manzanas'],[1,'mandarinas'], [1,'huevos'], [1,'leche'], [2,'leche'], [2,'huevos']], dtype=object)\n",
    "compras\n"
   ]
  },
  {
   "cell_type": "markdown",
   "metadata": {},
   "source": [
    "Lo primero que necesitamos es contar el numero de veces que aparece cada item y luego cada par de items, y luego...:\n",
    "\n",
    "'manzanas'  aparece 1 vez (aparece solo en una de las dos compras), luego su soporte es 1/2, o bien 50%"
   ]
  },
  {
   "cell_type": "code",
   "execution_count": 4,
   "metadata": {},
   "outputs": [
    {
     "name": "stdout",
     "output_type": "stream",
     "text": [
      "Counter({'huevos': 2, 'leche': 2, 'manzanas': 1, 'mandarinas': 1})\n",
      "soportes: {'manzanas': 0.5, 'mandarinas': 0.5, 'huevos': 1.0, 'leche': 1.0}\n"
     ]
    }
   ],
   "source": [
    "c=Counter(compras[:,1])\n",
    "print(c)\n",
    "\n",
    "soportes={}\n",
    "for key in c:    \n",
    "    soportes[key]=c[key]/2\n",
    "print('soportes:',soportes)"
   ]
  },
  {
   "cell_type": "markdown",
   "metadata": {},
   "source": [
    "compra 1:  **manzanas, mandarinas, huevos, leche**   -->  item pairs: {'manzanas', 'mandarinas'}, {'manzanas', 'huevos'}, {'manzanas', 'leche'}, {'mandarinas', 'huevos'}, {'mandarinas', 'leche'}, {huevos,leche}\n",
    "\n",
    "compra 2:  **huevos,leche**          -->  item pairs: {huevos,leche}\n"
   ]
  },
  {
   "cell_type": "code",
   "execution_count": 5,
   "metadata": {},
   "outputs": [],
   "source": [
    "# Generator that yields item pairs, one at a time\n",
    "#Requiere que la base esté ordenada por compra\n",
    "def get_item_pairs(entrada):\n",
    "    \n",
    "    # For each order, generate a list of items in that order\n",
    "    for order_id, order_object in groupby(entrada, lambda x: x[0]):\n",
    "        item_list = [item[1] for item in order_object]      \n",
    "    \n",
    "        # For each item list, generate item pairs, one at a time\n",
    "        for item_pair in combinations(item_list, 2):\n",
    "            yield item_pair"
   ]
  },
  {
   "cell_type": "code",
   "execution_count": 6,
   "metadata": {},
   "outputs": [
    {
     "name": "stdout",
     "output_type": "stream",
     "text": [
      "Counter({('manzanas', 'mandarinas'): 1, ('manzanas', 'huevos'): 1, ('mandarinas', 'huevos'): 1})\n",
      "0\n",
      "1\n"
     ]
    }
   ],
   "source": [
    "c3=Counter(get_item_pairs(compras))\n",
    "print (c3)\n",
    "print(c3[('huevos', 'leche')])\n",
    "print(c3[('manzanas', 'huevos')])"
   ]
  },
  {
   "cell_type": "markdown",
   "metadata": {},
   "source": [
    "**Se debe ordena la base primero por compra y luego por item (puede ser alfabéticamente) para evitar errores:**\n",
    "\n",
    "compra 1:  **manzanas, mandarinas, huevos, leche**   -->  item pairs: ('mandarinas','manzanas'), ('huevos', 'manzanas'), ('leche', 'manzanas'), ('huevos','mandarinas'), ('leche','mandarinas'), (huevos,leche)\n",
    "\n",
    "compra 2:  **huevos, leche**          -->  item pairs: (huevos,leche)"
   ]
  },
  {
   "cell_type": "code",
   "execution_count": 10,
   "metadata": {},
   "outputs": [
    {
     "name": "stdout",
     "output_type": "stream",
     "text": [
      "Counter({('huevos', 'leche'): 2, ('manzanas', 'mandarinas'): 1, ('manzanas', 'huevos'): 1, ('manzanas', 'leche'): 1, ('mandarinas', 'huevos'): 1, ('mandarinas', 'leche'): 1})\n",
      "2\n",
      "1\n"
     ]
    }
   ],
   "source": [
    "# Sample data\n",
    "compras = np.array([[1,'manzanas'],[1,'mandarinas'], [1,'huevos'], [1,'leche'], [2,'huevos'], [2,'leche']], dtype=object)\n",
    "\n",
    "c3=Counter(get_item_pairs(compras))\n",
    "print (c3)\n",
    "print(c3[('huevos', 'leche')])\n",
    "print(c3[('manzanas', 'huevos')])"
   ]
  },
  {
   "cell_type": "code",
   "execution_count": 32,
   "metadata": {},
   "outputs": [
    {
     "name": "stdout",
     "output_type": "stream",
     "text": [
      "[['manzanas', 'mandarinas', 'huevos', 'leche'], ['leche', 'huevos']]\n"
     ]
    }
   ],
   "source": [
    "transactions=[]#requiere que la base esté ordenada por compra\n",
    "for compra_id, compra_object in groupby(compras, lambda x: x[0]):\n",
    "    transactions.append([item[1] for item in compra_object])\n",
    "print(transactions)"
   ]
  },
  {
   "cell_type": "markdown",
   "metadata": {},
   "source": [
    "https://pypi.org/project/efficient-apriori/"
   ]
  },
  {
   "cell_type": "code",
   "execution_count": 33,
   "metadata": {},
   "outputs": [
    {
     "name": "stdout",
     "output_type": "stream",
     "text": [
      "{1: {('huevos',): 2, ('leche',): 2}, 2: {('huevos', 'leche'): 2}}\n",
      "[{leche} -> {huevos}, {huevos} -> {leche}]\n",
      "{leche} -> {huevos} (conf: 1.000, supp: 1.000, lift: 1.000, conv: 0.000)\n",
      "{huevos} -> {leche} (conf: 1.000, supp: 1.000, lift: 1.000, conv: 0.000)\n"
     ]
    }
   ],
   "source": [
    "from efficient_apriori import apriori\n",
    "\n",
    "#apriori de efficient_apriori requiere una lista de transacciones (no necesita que estén ordenados en cada transacción)\n",
    "\n",
    "itemsets, rules = apriori(transactions, min_support=0.6,  min_confidence=0.6)#min_sup conf entre 0 y 1\n",
    "print(itemsets)\n",
    "print(rules)\n",
    "rules=sorted(rules, key=lambda rule: rule.confidence)\n",
    "for rule in rules:\n",
    "  print(rule) # Prints the rule and its confidence, support, lift, ..."
   ]
  },
  {
   "cell_type": "code",
   "execution_count": null,
   "metadata": {},
   "outputs": [],
   "source": [
    "# Otro ejemplo sintético:\n",
    "from efficient_apriori import apriori\n",
    "transactions = [('eggs', 'bacon', 'soup'),\n",
    "                ('eggs', 'bacon', 'apple'),\n",
    "                ('soup', 'bacon', 'banana')]\n",
    "itemsets, rules = apriori(transactions, min_support=0.5,  min_confidence=1)\n",
    "print(rules)  # [{eggs} -> {bacon}, {soup} -> {bacon}]"
   ]
  },
  {
   "cell_type": "markdown",
   "metadata": {},
   "source": [
    "## Datos Reales!!\n",
    "### Analisis de los datos de *instacart*\n",
    "Disponibles en:\n",
    "https://www.instacart.com/datasets/grocery-shopping-2017"
   ]
  },
  {
   "cell_type": "code",
   "execution_count": 34,
   "metadata": {},
   "outputs": [],
   "source": [
    "import pandas as pd\n",
    "import numpy as np\n",
    "import sys\n",
    "from itertools import combinations, groupby\n",
    "from collections import Counter\n",
    "from IPython.display import display"
   ]
  },
  {
   "cell_type": "markdown",
   "metadata": {},
   "source": [
    "Descripcion de los datos:\n",
    "\n",
    "order_products__prior.cvs\n",
    "\n",
    "order_id,product_id,add_to_cart_order,reordered\n",
    "\n",
    "`orders=compras` (3.4m rows, 206k users):\n",
    "* **`order_id`: order identifier**\n",
    "* `user_id`: customer identifier\n",
    "* `eval_set`: which evaluation set this order belongs in (see `SET` described below)\n",
    "* `order_number`: the order sequence number for this user (1 = first, n = nth)\n",
    "* `order_dow`: the day of the week the order was placed on\n",
    "* `order_hour_of_day`: the hour of the day the order was placed on\n",
    "* `days_since_prior`: days since the last order, capped at 30 (with NAs for `order_number` = 1)\n",
    "\n",
    "`products` (50k rows):\n",
    "* **`product_id`: product identifier**\n",
    "* `product_name`: name of the product\n",
    "* `aisle_id`: foreign key\n",
    "* `department_id`: foreign key\n",
    "\n",
    "`aisles` (134 rows):\n",
    "* `aisle_id`: aisle identifier\n",
    "* `aisle`: the name of the aisle\n",
    "\n",
    "`deptartments` (21 rows):\n",
    "* `department_id`: department identifier\n",
    "* `department`: the name of the department\n",
    "\n",
    "**`order_products__SET` (30m+ rows):**\n",
    "* **`order_id`: foreign key**\n",
    "* **`product_id`: foreign key**\n",
    "* `add_to_cart_order`: order in which each product was added to cart\n",
    "* `reordered`: 1 if this product has been ordered by this user in the past, 0 otherwise\n",
    "\n",
    "where `SET` is one of the four following evaluation sets (`eval_set` in `orders`):\n",
    "* **`\"prior\"`**: orders prior to that users most recent order (~3.2m orders)\n",
    "* `\"train\"`: training data supplied to participants (~131k orders)\n",
    "* `\"test\"`: test data reserved for machine learning competitions (~75k orders)"
   ]
  },
  {
   "cell_type": "code",
   "execution_count": 35,
   "metadata": {},
   "outputs": [],
   "source": [
    "def size(obj):\n",
    "    return \"{0:.2f} MB\".format(sys.getsizeof(obj) / (1000 * 1000))"
   ]
  },
  {
   "cell_type": "code",
   "execution_count": null,
   "metadata": {},
   "outputs": [],
   "source": [
    "orders = pd.read_csv('instacart_2017_05_01/order_products__prior_short.csv')\n",
    "# es muy pesado trabajar con toda la base...\n",
    "#orders = pd.read_csv('instacart_2017_05_01/order_products__prior.csv')\n",
    "print('orders -- dimensions: {0};   size: {1}'.format(orders.shape, size(orders)))\n",
    "display(orders.head())\n",
    "items_names = pd.read_csv('instacart_2017_05_01/products.csv')\n",
    "display(items_names.head())\n",
    "\n",
    "#decodificar el nombre de los productos\n",
    "compras_df = pd.merge(orders[['order_id','product_id']], items_names[['product_id','product_name']] ,on='product_id', how= \"inner\")\n",
    "\n",
    "display(compras_df.head())\n",
    "compras_df=compras_df.sort_values( by='order_id', axis=0, ascending=True, inplace=False, kind='quicksort', na_position='last')\n",
    "compras=compras_df.values[:,[0,2]]\n",
    "print(compras)"
   ]
  },
  {
   "cell_type": "code",
   "execution_count": null,
   "metadata": {},
   "outputs": [],
   "source": [
    "transactions=[]\n",
    "for orders_id, order_object in groupby(compras, lambda x: x[0]):\n",
    "    transactions.append([item[1] for item in order_object])\n",
    "print(transactions)\n",
    "#con toda la base..\n",
    "#IOPub data rate exceeded.\n",
    "#The notebook server will temporarily stop sending output"
   ]
  },
  {
   "cell_type": "markdown",
   "metadata": {},
   "source": [
    "## CUIDADO CON BASES GRANDES usando apriori de efficient apriori\n",
    "\n",
    "https://pypi.org/project/efficient-apriori/\n",
    "\n",
    "Working with large datasets:\n",
    "\n",
    "If you have data that is too large to fit into memory, you may pass a function returning a generator instead of a list. **The min_support will most likely have to be a large value, or the algorithm will take very long before it terminates**. If you have massive amounts of data, this Python implementation is likely not fast enough, and **you should consult more specialized implementations**.\n",
    "\n",
    "\n",
    "def data_generator(filename):\n",
    "  \"\"\"\n",
    "  Data generator, needs to return a generator to be called several times.\n",
    "  \"\"\"\n",
    "  def data_gen():\n",
    "    with open(filename) as file:\n",
    "      for line in file:\n",
    "        yield tuple(k.strip() for k in line.split(','))      \n",
    "\n",
    "  return data_gen\n",
    "\n",
    "transactions = data_generator('dataset.csv')\n",
    "itemsets, rules = apriori(transactions, min_support=0.9, min_confidence=0.6)"
   ]
  },
  {
   "cell_type": "code",
   "execution_count": 50,
   "metadata": {},
   "outputs": [],
   "source": [
    "from efficient_apriori import apriori\n",
    "#wARNING-CUIDADO!! no poner min_support pequeño como por ejempo 0.001!!\n",
    "#min_support y min_confiden entre 0 y 1  \n",
    "itemsets, rules = apriori(transactions, min_support=0.1,  min_confidence=0.3)"
   ]
  },
  {
   "cell_type": "code",
   "execution_count": 47,
   "metadata": {},
   "outputs": [
    {
     "name": "stdout",
     "output_type": "stream",
     "text": [
      "{Organic Raspberries} -> {Organic Hass Avocado} (conf: 0.300, supp: 0.011, lift: 4.922, conv: 1.341)\n",
      "{Organic Yellow Onion} -> {Bag of Organic Bananas} (conf: 0.304, supp: 0.013, lift: 2.619, conv: 1.270)\n",
      "{Limes} -> {Banana} (conf: 0.333, supp: 0.013, lift: 2.365, conv: 1.289)\n",
      "{Organic Baby Spinach} -> {Banana} (conf: 0.366, supp: 0.029, lift: 2.596, conv: 1.355)\n",
      "{Raspberries} -> {Strawberries} (conf: 0.375, supp: 0.011, lift: 6.562, conv: 1.509)\n",
      "{Cucumber Kirby} -> {Banana} (conf: 0.400, supp: 0.011, lift: 2.838, conv: 1.432)\n",
      "{Honeycrisp Apple} -> {Banana} (conf: 0.400, supp: 0.015, lift: 2.838, conv: 1.432)\n",
      "{Organic Blueberries} -> {Strawberries} (conf: 0.429, supp: 0.011, lift: 7.500, conv: 1.650)\n",
      "{Organic Raspberries} -> {Bag of Organic Bananas} (conf: 0.450, supp: 0.017, lift: 3.873, conv: 1.607)\n",
      "{Organic Gala Apples} -> {Organic Hass Avocado} (conf: 0.545, supp: 0.011, lift: 8.949, conv: 2.066)\n",
      "{Organic Fuji Apple} -> {Banana} (conf: 0.562, supp: 0.017, lift: 3.991, conv: 1.964)\n",
      "{Blueberries} -> {Banana} (conf: 0.583, supp: 0.013, lift: 4.139, conv: 2.062)\n"
     ]
    }
   ],
   "source": [
    "#rules = filter(lambda rule: len(rule.lhs) == 2 and len(rule.rhs) == 1, rules)\n",
    "rules=sorted(rules, key=lambda rule: rule.confidence)\n",
    "for rule in rules:\n",
    "  print(rule) # Prints the rule and its confidence, support, lift, ..."
   ]
  },
  {
   "cell_type": "code",
   "execution_count": null,
   "metadata": {},
   "outputs": [],
   "source": []
  }
 ],
 "metadata": {
  "kernelspec": {
   "display_name": "Python 3",
   "language": "python",
   "name": "python3"
  },
  "language_info": {
   "codemirror_mode": {
    "name": "ipython",
    "version": 3
   },
   "file_extension": ".py",
   "mimetype": "text/x-python",
   "name": "python",
   "nbconvert_exporter": "python",
   "pygments_lexer": "ipython3",
   "version": "3.6.5"
  }
 },
 "nbformat": 4,
 "nbformat_minor": 2
}
